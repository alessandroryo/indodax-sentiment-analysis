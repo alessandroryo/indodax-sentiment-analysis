{
 "cells": [
  {
   "cell_type": "markdown",
   "metadata": {},
   "source": [
    "# Google Play Store Scraping - Indodax"
   ]
  },
  {
   "cell_type": "markdown",
   "metadata": {},
   "source": [
    "---\n",
    "## Project Prerequisites"
   ]
  },
  {
   "cell_type": "markdown",
   "metadata": {},
   "source": [
    "### Data Extraction from Google Play Store with Google Play Scraper"
   ]
  },
  {
   "cell_type": "markdown",
   "metadata": {},
   "source": [
    "To fetch app reviews from the Google Play Store, the `google-play-scraper` library is required. This library enables access to data such as reviews, app information, and more directly from the Google Play Store."
   ]
  },
  {
   "cell_type": "markdown",
   "metadata": {},
   "source": [
    "#### Installation\n",
    "To install the `google-play-scraper` library, use the following command:"
   ]
  },
  {
   "cell_type": "code",
   "execution_count": 1,
   "metadata": {
    "vscode": {
     "languageId": "shellscript"
    }
   },
   "outputs": [
    {
     "name": "stdout",
     "output_type": "stream",
     "text": [
      "Requirement already satisfied: google-play-scraper in d:\\software\\python\\lib\\site-packages (1.2.7)\n"
     ]
    },
    {
     "name": "stderr",
     "output_type": "stream",
     "text": [
      "DEPRECATION: Loading egg at d:\\software\\python\\lib\\site-packages\\vboxapi-1.0-py3.11.egg is deprecated. pip 24.3 will enforce this behaviour change. A possible replacement is to use pip for package installation. Discussion can be found at https://github.com/pypa/pip/issues/12330\n"
     ]
    }
   ],
   "source": [
    "!pip install google-play-scraper"
   ]
  },
  {
   "cell_type": "markdown",
   "metadata": {},
   "source": [
    "### Import Project Libraries"
   ]
  },
  {
   "cell_type": "code",
   "execution_count": 2,
   "metadata": {},
   "outputs": [],
   "source": [
    "import os\n",
    "import csv\n",
    "from google_play_scraper import Sort, reviews_all"
   ]
  },
  {
   "cell_type": "code",
   "execution_count": 3,
   "metadata": {},
   "outputs": [],
   "source": [
    "def ensure_directory_exists(directory):\n",
    "    \"\"\"\n",
    "    Ensures that the specified directory exists.\n",
    "    If the directory does not exist, it will be created.\n",
    "    \"\"\"\n",
    "    os.makedirs(directory, exist_ok=True)\n",
    "    # Create the directory if it doesn't already exist, using 'exist_ok=True' to avoid errors if the directory is already present."
   ]
  },
  {
   "cell_type": "markdown",
   "metadata": {},
   "source": [
    "---\n",
    "## Data Acquisition through Web Scraping"
   ]
  },
  {
   "cell_type": "markdown",
   "metadata": {},
   "source": [
    "##### *Scraping from Google Play Store*"
   ]
  },
  {
   "cell_type": "code",
   "execution_count": 4,
   "metadata": {},
   "outputs": [],
   "source": [
    "# Fetch all reviews for an app with a specific ID from the Google Play Store\n",
    "app_reviews = reviews_all(\n",
    "    'id.co.bitcoin',             # The app's ID from which reviews will be fetched\n",
    "    lang='id',                   # Language of the reviews (Indonesian)\n",
    "    country='id',                # Country of the reviews (Indonesia)\n",
    "    sort=Sort.MOST_RELEVANT,     # Order the reviews based on relevance\n",
    ")"
   ]
  },
  {
   "cell_type": "markdown",
   "metadata": {},
   "source": [
    "The code above uses the `google-play-scraper` library to fetch all reviews from an app available on the Google Play Store.\n",
    "\n",
    "- **`from google_play_scraper import Sort, reviews_all`**: Imports the `reviews_all` function and the `Sort` constant from the `google-play-scraper` library. The `reviews_all` function is used for scraping reviews, while `Sort` determines the order in which reviews are retrieved.\n",
    "\n",
    "- **`app_reviews = reviews_all(...)`**: Retrieves all reviews for the app identified by the provided `app_id`. The parameters include:\n",
    "  - `app_id`: The app's ID on the Google Play Store.\n",
    "  - `lang`: The desired language of the reviews.\n",
    "  - `country`: The country from which the reviews originate.\n",
    "  - `sort`: The method of sorting reviews, in this case, based on relevance (most relevant)."
   ]
  },
  {
   "cell_type": "code",
   "execution_count": 5,
   "metadata": {},
   "outputs": [],
   "source": [
    "def save_review_content_to_csv(reviews, file_path):\n",
    "    \"\"\"\n",
    "    Saves the 'content' field from each review to a CSV file using csv.writer.\n",
    "\n",
    "    Parameters:\n",
    "        reviews (list): A list of dictionaries, where each dictionary contains review data.\n",
    "        file_path (str): The path to the CSV file where the content will be saved.\n",
    "\n",
    "    Returns:\n",
    "        None: This function writes data directly to a file and does not return a value.\n",
    "    \"\"\"\n",
    "\n",
    "    # Ensure the directory for the file path exists\n",
    "    ensure_directory_exists(os.path.dirname(file_path))\n",
    "\n",
    "    # Open the file and write the data to it\n",
    "    with open(file_path, mode='w', newline='', encoding='utf-8') as file:\n",
    "        writer = csv.writer(file)\n",
    "        \n",
    "        # Write the header row\n",
    "        writer.writerow(['content'])\n",
    "\n",
    "        # Write the content of each review\n",
    "        for rev in reviews:\n",
    "            # Ensure rev is a dictionary and contains the 'content' key\n",
    "            if isinstance(rev, dict) and 'content' in rev:\n",
    "                writer.writerow([rev['content']])\n",
    "            else:\n",
    "                print(f\"Unexpected data format: {rev}\")\n",
    "                # Print an error message if the data format is unexpected\n",
    "\n",
    "# Save the review content to a CSV file\n",
    "save_review_content_to_csv(app_reviews, 'data/review.csv')"
   ]
  }
 ],
 "metadata": {
  "kernelspec": {
   "display_name": "Python 3",
   "language": "python",
   "name": "python3"
  },
  "language_info": {
   "codemirror_mode": {
    "name": "ipython",
    "version": 3
   },
   "file_extension": ".py",
   "mimetype": "text/x-python",
   "name": "python",
   "nbconvert_exporter": "python",
   "pygments_lexer": "ipython3",
   "version": "3.11.1"
  }
 },
 "nbformat": 4,
 "nbformat_minor": 2
}
